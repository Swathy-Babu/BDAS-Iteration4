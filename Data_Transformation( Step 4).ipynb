{
 "cells": [
  {
   "cell_type": "code",
   "execution_count": 1,
   "id": "1c83e3b1-b7fe-458c-b0b9-bee35348f8af",
   "metadata": {},
   "outputs": [],
   "source": [
    "import findspark\n",
    "findspark.init('/home/ubuntu/spark-2.1.1-bin-hadoop2.7')\n",
    "import pyspark\n",
    "from pyspark.sql import SparkSession\n",
    "spark = SparkSession.builder.appName('sbab033').getOrCreate()\n"
   ]
  },
  {
   "cell_type": "code",
   "execution_count": 2,
   "id": "ccd4e228-c60d-44f9-9d3a-e53b67189669",
   "metadata": {},
   "outputs": [],
   "source": [
    "df= spark.read.csv('cleaned_data.csv',header=True,inferSchema=True)"
   ]
  },
  {
   "cell_type": "code",
   "execution_count": 3,
   "id": "dae7951c-5621-4010-8b8e-0f84986ad5dc",
   "metadata": {},
   "outputs": [],
   "source": [
    "from pyspark.ml import Pipeline\n",
    "from pyspark.ml.evaluation import MulticlassClassificationEvaluator\n",
    "from pyspark.ml.classification import DecisionTreeClassifier"
   ]
  },
  {
   "cell_type": "code",
   "execution_count": 4,
   "id": "75c08977-e7cd-4d90-a5a7-20c47b8ce097",
   "metadata": {},
   "outputs": [],
   "source": [
    "from pyspark.ml.linalg import Vectors\n",
    "from pyspark.ml.feature import VectorAssembler"
   ]
  },
  {
   "cell_type": "code",
   "execution_count": 5,
   "id": "f0c67791",
   "metadata": {},
   "outputs": [
    {
     "name": "stdout",
     "output_type": "stream",
     "text": [
      "root\n",
      " |-- age: double (nullable = true)\n",
      " |-- creatinine_phosphokinase: double (nullable = true)\n",
      " |-- ejection_fraction: double (nullable = true)\n",
      " |-- platelets: double (nullable = true)\n",
      " |-- serum_creatinine: double (nullable = true)\n",
      " |-- serum_sodium: double (nullable = true)\n",
      " |-- time: double (nullable = true)\n",
      " |-- anaemia: integer (nullable = true)\n",
      " |-- diabetes: integer (nullable = true)\n",
      " |-- high_blood_pressure: integer (nullable = true)\n",
      " |-- sex: integer (nullable = true)\n",
      " |-- DEATH_EVENT: integer (nullable = true)\n",
      " |-- smoking: integer (nullable = true)\n",
      "\n"
     ]
    }
   ],
   "source": [
    "df.printSchema()"
   ]
  },
  {
   "cell_type": "code",
   "execution_count": 6,
   "id": "625f13e7-f8f5-4440-b026-032cbe1bc3ef",
   "metadata": {},
   "outputs": [
    {
     "data": {
      "text/plain": [
       "['age',\n",
       " 'creatinine_phosphokinase',\n",
       " 'ejection_fraction',\n",
       " 'platelets',\n",
       " 'serum_creatinine',\n",
       " 'serum_sodium',\n",
       " 'time',\n",
       " 'anaemia',\n",
       " 'diabetes',\n",
       " 'high_blood_pressure',\n",
       " 'sex',\n",
       " 'DEATH_EVENT',\n",
       " 'smoking']"
      ]
     },
     "execution_count": 6,
     "metadata": {},
     "output_type": "execute_result"
    }
   ],
   "source": [
    "df.columns"
   ]
  },
  {
   "cell_type": "code",
   "execution_count": 7,
   "id": "16b45948-a6f1-4596-a0b3-0915cdbbc230",
   "metadata": {},
   "outputs": [],
   "source": [
    "# Combine all features into one vector named features.\n",
    "assembler = VectorAssembler(\n",
    "  inputCols=['age',\n",
    " 'creatinine_phosphokinase',\n",
    " 'ejection_fraction',\n",
    " 'platelets',\n",
    " 'serum_creatinine',\n",
    " 'serum_sodium',\n",
    " 'time',\n",
    " 'anaemia',\n",
    " 'diabetes',\n",
    " 'high_blood_pressure',\n",
    " 'sex',\n",
    " 'smoking'],outputCol=\"features\")"
   ]
  },
  {
   "cell_type": "code",
   "execution_count": 8,
   "id": "a6984bb6-5383-4b5c-8c22-b9acbf679ab7",
   "metadata": {},
   "outputs": [],
   "source": [
    "df1 = assembler.transform(df)"
   ]
  },
  {
   "cell_type": "code",
   "execution_count": 9,
   "id": "44368ae4-74c4-42ed-a23d-0cb9d662c32c",
   "metadata": {},
   "outputs": [
    {
     "name": "stdout",
     "output_type": "stream",
     "text": [
      "+----+------------------------+-------------------+-------------------+--------------------+------------------+------------------+-------+--------+-------------------+---+-----------+-------+--------------------+\n",
      "| age|creatinine_phosphokinase|  ejection_fraction|          platelets|    serum_creatinine|      serum_sodium|              time|anaemia|diabetes|high_blood_pressure|sex|DEATH_EVENT|smoking|            features|\n",
      "+----+------------------------+-------------------+-------------------+--------------------+------------------+------------------+-------+--------+-------------------+---+-----------+-------+--------------------+\n",
      "|40.0|     0.07279593697095976| 0.3181818181818181|0.23869559946660202|0.056179775280898875|0.5428571428571427|0.8540925266903915|      0|       1|                  0|  1|          0|      0|[40.0,0.072795936...|\n",
      "|40.0|    0.013803880713634586| 0.3181818181818181| 0.2787004485392169|  0.0449438202247191|0.6857142857142855|0.7295373665480427|      1|       0|                  0|  1|          0|      0|[40.0,0.013803880...|\n",
      "|40.0|    0.059252506836827715|0.24242424242424246|0.33688931991756577|  0.0449438202247191| 0.657142857142857|0.5124555160142349|      0|       1|                  0|  1|          0|      0|[40.0,0.059252506...|\n",
      "|40.0|     0.00872509441333507| 0.3181818181818181| 0.2787004485392169| 0.06741573033707866| 0.657142857142857|0.7402135231316727|      0|       0|                  0|  1|          0|      1|[40.0,0.008725094...|\n",
      "|40.0|     0.07826539914051309| 0.3181818181818181|0.33446478361013454|0.056179775280898875|0.8285714285714283|0.7473309608540926|      0|       0|                  0|  1|          0|      1|[40.0,0.078265399...|\n",
      "+----+------------------------+-------------------+-------------------+--------------------+------------------+------------------+-------+--------+-------------------+---+-----------+-------+--------------------+\n",
      "only showing top 5 rows\n",
      "\n"
     ]
    }
   ],
   "source": [
    "df1.show(5)"
   ]
  },
  {
   "cell_type": "code",
   "execution_count": 10,
   "id": "c3e5a27d",
   "metadata": {},
   "outputs": [
    {
     "name": "stdout",
     "output_type": "stream",
     "text": [
      "root\n",
      " |-- age: double (nullable = true)\n",
      " |-- creatinine_phosphokinase: double (nullable = true)\n",
      " |-- ejection_fraction: double (nullable = true)\n",
      " |-- platelets: double (nullable = true)\n",
      " |-- serum_creatinine: double (nullable = true)\n",
      " |-- serum_sodium: double (nullable = true)\n",
      " |-- time: double (nullable = true)\n",
      " |-- anaemia: integer (nullable = true)\n",
      " |-- diabetes: integer (nullable = true)\n",
      " |-- high_blood_pressure: integer (nullable = true)\n",
      " |-- sex: integer (nullable = true)\n",
      " |-- DEATH_EVENT: integer (nullable = true)\n",
      " |-- smoking: integer (nullable = true)\n",
      " |-- features: vector (nullable = true)\n",
      "\n"
     ]
    }
   ],
   "source": [
    "df1.printSchema()"
   ]
  },
  {
   "cell_type": "code",
   "execution_count": 11,
   "id": "ecc9b98e-a8e6-48c3-95e5-c6d19adef7a4",
   "metadata": {},
   "outputs": [],
   "source": [
    "dtc = DecisionTreeClassifier(labelCol='DEATH_EVENT',featuresCol='features',seed = 1)"
   ]
  },
  {
   "cell_type": "code",
   "execution_count": 12,
   "id": "0f9596eb-82a2-4f75-8d37-d86c1681c6a5",
   "metadata": {},
   "outputs": [],
   "source": [
    "#pipeline = Pipeline(stages=[DEATH_EVENT, features, dtc])"
   ]
  },
  {
   "cell_type": "code",
   "execution_count": 13,
   "id": "8df8146b",
   "metadata": {},
   "outputs": [],
   "source": [
    "final = df1.select(\"features\", \"DEATH_EVENT\")"
   ]
  },
  {
   "cell_type": "code",
   "execution_count": 14,
   "id": "7c6054c1",
   "metadata": {},
   "outputs": [
    {
     "name": "stdout",
     "output_type": "stream",
     "text": [
      "+--------------------+-----------+\n",
      "|            features|DEATH_EVENT|\n",
      "+--------------------+-----------+\n",
      "|[40.0,0.072795936...|          0|\n",
      "|[40.0,0.013803880...|          0|\n",
      "|[40.0,0.059252506...|          0|\n",
      "|[40.0,0.008725094...|          0|\n",
      "|[40.0,0.078265399...|          0|\n",
      "+--------------------+-----------+\n",
      "only showing top 5 rows\n",
      "\n"
     ]
    }
   ],
   "source": [
    "final.show(5)"
   ]
  },
  {
   "cell_type": "code",
   "execution_count": 15,
   "id": "38c165ae-2313-4781-a79f-4f144659570d",
   "metadata": {},
   "outputs": [],
   "source": [
    "dtc_model = dtc.fit(final)"
   ]
  },
  {
   "cell_type": "code",
   "execution_count": 16,
   "id": "d7f9a64b-e277-4141-ba09-de80bd8f96ef",
   "metadata": {
    "scrolled": true
   },
   "outputs": [
    {
     "name": "stdout",
     "output_type": "stream",
     "text": [
      "age Score: 0.00000\n",
      "creatinine_phosphokinase Score: 0.07324\n",
      "ejection_fraction Score: 0.13909\n",
      "platelets Score: 0.01843\n",
      "serum_creatinine Score: 0.08883\n",
      "serum_sodium Score: 0.02305\n",
      "time Score: 0.62726\n",
      "anaemia Score: 0.03009\n",
      "diabetes Score: 0.00000\n",
      "high_blood_pressure Score: 0.00000\n",
      "sex Score: 0.00000\n",
      "smoking Score: 0.00000\n"
     ]
    },
    {
     "data": {
      "image/png": "[encoded data removed]",
      "text/plain": [
       "<Figure size 1656x432 with 1 Axes>"
      ]
     },
     "metadata": {
      "needs_background": "light"
     },
     "output_type": "display_data"
    }
   ],
   "source": [
    "X = df.columns\n",
    "X.remove(\"DEATH_EVENT\") #label\n",
    "importance = dtc_model.featureImportances\n",
    "# summarize feature importance\n",
    "i=0\n",
    "for col in X:\n",
    "    #print(col,importance[i])\n",
    "    print(col,'Score: %.5f' % (importance[i]))\n",
    "    i=i+1\n",
    "import matplotlib.pyplot as plt\n",
    "# summarize feature importance\n",
    "plt.figure(figsize=(23,6))\n",
    "plt.bar(X, dtc_model.featureImportances)\n",
    "plt.xticks(rotation=90)\n",
    "plt.title(\"Decision tree feature importance\")\n",
    "plt.show()"
   ]
  },
  {
   "cell_type": "code",
   "execution_count": 17,
   "id": "1fd82314",
   "metadata": {},
   "outputs": [],
   "source": [
    "df=df.toPandas()"
   ]
  },
  {
   "cell_type": "code",
   "execution_count": 18,
   "id": "9ec410f3",
   "metadata": {
    "scrolled": true
   },
   "outputs": [],
   "source": [
    "#only selection the important features\n",
    "#df=df.toPandas()\n",
    "df=df.drop([\"diabetes\",\"high_blood_pressure\",\"sex\",\"smoking\"],axis=1)"
   ]
  },
  {
   "cell_type": "code",
   "execution_count": 19,
   "id": "1ba21faf",
   "metadata": {},
   "outputs": [
    {
     "data": {
      "text/html": [
       "<div>\n",
       "<style scoped>\n",
       "    .dataframe tbody tr th:only-of-type {\n",
       "        vertical-align: middle;\n",
       "    }\n",
       "\n",
       "    .dataframe tbody tr th {\n",
       "        vertical-align: top;\n",
       "    }\n",
       "\n",
       "    .dataframe thead th {\n",
       "        text-align: right;\n",
       "    }\n",
       "</style>\n",
       "<table border=\"1\" class=\"dataframe\">\n",
       "  <thead>\n",
       "    <tr style=\"text-align: right;\">\n",
       "      <th></th>\n",
       "      <th>age</th>\n",
       "      <th>creatinine_phosphokinase</th>\n",
       "      <th>ejection_fraction</th>\n",
       "      <th>platelets</th>\n",
       "      <th>serum_creatinine</th>\n",
       "      <th>serum_sodium</th>\n",
       "      <th>time</th>\n",
       "      <th>anaemia</th>\n",
       "      <th>DEATH_EVENT</th>\n",
       "    </tr>\n",
       "  </thead>\n",
       "  <tbody>\n",
       "    <tr>\n",
       "      <th>0</th>\n",
       "      <td>40.0</td>\n",
       "      <td>0.072796</td>\n",
       "      <td>0.318182</td>\n",
       "      <td>0.238696</td>\n",
       "      <td>0.056180</td>\n",
       "      <td>0.542857</td>\n",
       "      <td>0.854093</td>\n",
       "      <td>0</td>\n",
       "      <td>0</td>\n",
       "    </tr>\n",
       "    <tr>\n",
       "      <th>1</th>\n",
       "      <td>40.0</td>\n",
       "      <td>0.013804</td>\n",
       "      <td>0.318182</td>\n",
       "      <td>0.278700</td>\n",
       "      <td>0.044944</td>\n",
       "      <td>0.685714</td>\n",
       "      <td>0.729537</td>\n",
       "      <td>1</td>\n",
       "      <td>0</td>\n",
       "    </tr>\n",
       "    <tr>\n",
       "      <th>2</th>\n",
       "      <td>40.0</td>\n",
       "      <td>0.059253</td>\n",
       "      <td>0.242424</td>\n",
       "      <td>0.336889</td>\n",
       "      <td>0.044944</td>\n",
       "      <td>0.657143</td>\n",
       "      <td>0.512456</td>\n",
       "      <td>0</td>\n",
       "      <td>0</td>\n",
       "    </tr>\n",
       "    <tr>\n",
       "      <th>3</th>\n",
       "      <td>40.0</td>\n",
       "      <td>0.008725</td>\n",
       "      <td>0.318182</td>\n",
       "      <td>0.278700</td>\n",
       "      <td>0.067416</td>\n",
       "      <td>0.657143</td>\n",
       "      <td>0.740214</td>\n",
       "      <td>0</td>\n",
       "      <td>0</td>\n",
       "    </tr>\n",
       "    <tr>\n",
       "      <th>4</th>\n",
       "      <td>40.0</td>\n",
       "      <td>0.078265</td>\n",
       "      <td>0.318182</td>\n",
       "      <td>0.334465</td>\n",
       "      <td>0.056180</td>\n",
       "      <td>0.828571</td>\n",
       "      <td>0.747331</td>\n",
       "      <td>0</td>\n",
       "      <td>0</td>\n",
       "    </tr>\n",
       "  </tbody>\n",
       "</table>\n",
       "</div>"
      ],
      "text/plain": [
       "    age  creatinine_phosphokinase  ejection_fraction  platelets  \\\n",
       "0  40.0                  0.072796           0.318182   0.238696   \n",
       "1  40.0                  0.013804           0.318182   0.278700   \n",
       "2  40.0                  0.059253           0.242424   0.336889   \n",
       "3  40.0                  0.008725           0.318182   0.278700   \n",
       "4  40.0                  0.078265           0.318182   0.334465   \n",
       "\n",
       "   serum_creatinine  serum_sodium      time  anaemia  DEATH_EVENT  \n",
       "0          0.056180      0.542857  0.854093        0            0  \n",
       "1          0.044944      0.685714  0.729537        1            0  \n",
       "2          0.044944      0.657143  0.512456        0            0  \n",
       "3          0.067416      0.657143  0.740214        0            0  \n",
       "4          0.056180      0.828571  0.747331        0            0  "
      ]
     },
     "execution_count": 19,
     "metadata": {},
     "output_type": "execute_result"
    }
   ],
   "source": [
    "df.head()"
   ]
  },
  {
   "cell_type": "code",
   "execution_count": 20,
   "id": "7d77e61c",
   "metadata": {},
   "outputs": [
    {
     "name": "stdout",
     "output_type": "stream",
     "text": [
      "(299, 8) (299,)\n"
     ]
    }
   ],
   "source": [
    "y1 = df['DEATH_EVENT'] # output class\n",
    "X1 = df.drop(['DEATH_EVENT'], axis=1)# input features\n",
    "print(X1.shape, y1.shape)"
   ]
  },
  {
   "cell_type": "code",
   "execution_count": 21,
   "id": "f1a0f768",
   "metadata": {},
   "outputs": [
    {
     "name": "stdout",
     "output_type": "stream",
     "text": [
      "Counter({0: 203, 1: 96})\n"
     ]
    },
    {
     "data": {
      "image/png": "[encoded data removed]",
      "text/plain": [
       "<Figure size 432x288 with 1 Axes>"
      ]
     },
     "metadata": {
      "needs_background": "light"
     },
     "output_type": "display_data"
    }
   ],
   "source": [
    "#imbalanced classification dataset\n",
    "from collections import Counter\n",
    "#from sklearn.datasets import make_classification\n",
    "#from matplotlib import pyplot\n",
    "from numpy import where\n",
    "# summarize class distribution1\n",
    "counter = Counter(y1)\n",
    "y = y1.to_numpy()\n",
    "X = X1.to_numpy()\n",
    "print(counter)\n",
    "# scatter plot of examples by class death_event\n",
    "for label, _ in counter.items():\n",
    "    row_ix = where(y == label)[0]\n",
    "    plt.scatter(X[row_ix, 0], X[row_ix, 1], label=str(label))\n",
    "plt.legend()\n",
    "plt.show()"
   ]
  },
  {
   "cell_type": "code",
   "execution_count": 22,
   "id": "f7d8e285",
   "metadata": {},
   "outputs": [],
   "source": [
    "from imblearn.over_sampling import SMOTE\n",
    "# transform the dataset\n",
    "oversample = SMOTE()\n",
    "X1, y1 = oversample.fit_resample(X1, y1)"
   ]
  },
  {
   "cell_type": "code",
   "execution_count": 23,
   "id": "cf96fdd5",
   "metadata": {},
   "outputs": [
    {
     "name": "stdout",
     "output_type": "stream",
     "text": [
      "Counter({0: 203, 1: 203})\n"
     ]
    },
    {
     "data": {
      "image/png": "[encoded data removed]",
      "text/plain": [
       "<Figure size 432x288 with 1 Axes>"
      ]
     },
     "metadata": {
      "needs_background": "light"
     },
     "output_type": "display_data"
    }
   ],
   "source": [
    "counter = Counter(y1)\n",
    "y = y1.to_numpy()\n",
    "X = X1.to_numpy()\n",
    "print(counter)\n",
    "# scatter plot of examples by class death_event\n",
    "for label, _ in counter.items():\n",
    "    row_ix = where(y == label)[0]\n",
    "    plt.scatter(X[row_ix, 0], X[row_ix, 1], label=str(label))\n",
    "plt.legend()\n",
    "plt.show()"
   ]
  },
  {
   "cell_type": "code",
   "execution_count": 24,
   "id": "2180b4a0",
   "metadata": {},
   "outputs": [
    {
     "data": {
      "text/plain": [
       "(406, 8)"
      ]
     },
     "execution_count": 24,
     "metadata": {},
     "output_type": "execute_result"
    }
   ],
   "source": [
    "X1.shape"
   ]
  },
  {
   "cell_type": "code",
   "execution_count": 25,
   "id": "992dc9a5",
   "metadata": {},
   "outputs": [
    {
     "data": {
      "text/plain": [
       "(406,)"
      ]
     },
     "execution_count": 25,
     "metadata": {},
     "output_type": "execute_result"
    }
   ],
   "source": [
    "y1.shape"
   ]
  },
  {
   "cell_type": "code",
   "execution_count": 26,
   "id": "83b64556",
   "metadata": {},
   "outputs": [],
   "source": [
    "import pandas as pd"
   ]
  },
  {
   "cell_type": "code",
   "execution_count": 27,
   "id": "e0787238",
   "metadata": {},
   "outputs": [
    {
     "data": {
      "text/html": [
       "<div>\n",
       "<style scoped>\n",
       "    .dataframe tbody tr th:only-of-type {\n",
       "        vertical-align: middle;\n",
       "    }\n",
       "\n",
       "    .dataframe tbody tr th {\n",
       "        vertical-align: top;\n",
       "    }\n",
       "\n",
       "    .dataframe thead th {\n",
       "        text-align: right;\n",
       "    }\n",
       "</style>\n",
       "<table border=\"1\" class=\"dataframe\">\n",
       "  <thead>\n",
       "    <tr style=\"text-align: right;\">\n",
       "      <th></th>\n",
       "      <th>age</th>\n",
       "      <th>creatinine_phosphokinase</th>\n",
       "      <th>ejection_fraction</th>\n",
       "      <th>platelets</th>\n",
       "      <th>serum_creatinine</th>\n",
       "      <th>serum_sodium</th>\n",
       "      <th>time</th>\n",
       "      <th>anaemia</th>\n",
       "      <th>DEATH_EVENT</th>\n",
       "    </tr>\n",
       "  </thead>\n",
       "  <tbody>\n",
       "    <tr>\n",
       "      <th>0</th>\n",
       "      <td>40.0</td>\n",
       "      <td>0.072796</td>\n",
       "      <td>0.318182</td>\n",
       "      <td>0.238696</td>\n",
       "      <td>0.056180</td>\n",
       "      <td>0.542857</td>\n",
       "      <td>0.854093</td>\n",
       "      <td>0</td>\n",
       "      <td>0</td>\n",
       "    </tr>\n",
       "    <tr>\n",
       "      <th>1</th>\n",
       "      <td>40.0</td>\n",
       "      <td>0.013804</td>\n",
       "      <td>0.318182</td>\n",
       "      <td>0.278700</td>\n",
       "      <td>0.044944</td>\n",
       "      <td>0.685714</td>\n",
       "      <td>0.729537</td>\n",
       "      <td>1</td>\n",
       "      <td>0</td>\n",
       "    </tr>\n",
       "    <tr>\n",
       "      <th>2</th>\n",
       "      <td>40.0</td>\n",
       "      <td>0.059253</td>\n",
       "      <td>0.242424</td>\n",
       "      <td>0.336889</td>\n",
       "      <td>0.044944</td>\n",
       "      <td>0.657143</td>\n",
       "      <td>0.512456</td>\n",
       "      <td>0</td>\n",
       "      <td>0</td>\n",
       "    </tr>\n",
       "    <tr>\n",
       "      <th>3</th>\n",
       "      <td>40.0</td>\n",
       "      <td>0.008725</td>\n",
       "      <td>0.318182</td>\n",
       "      <td>0.278700</td>\n",
       "      <td>0.067416</td>\n",
       "      <td>0.657143</td>\n",
       "      <td>0.740214</td>\n",
       "      <td>0</td>\n",
       "      <td>0</td>\n",
       "    </tr>\n",
       "    <tr>\n",
       "      <th>4</th>\n",
       "      <td>40.0</td>\n",
       "      <td>0.078265</td>\n",
       "      <td>0.318182</td>\n",
       "      <td>0.334465</td>\n",
       "      <td>0.056180</td>\n",
       "      <td>0.828571</td>\n",
       "      <td>0.747331</td>\n",
       "      <td>0</td>\n",
       "      <td>0</td>\n",
       "    </tr>\n",
       "  </tbody>\n",
       "</table>\n",
       "</div>"
      ],
      "text/plain": [
       "    age  creatinine_phosphokinase  ejection_fraction  platelets  \\\n",
       "0  40.0                  0.072796           0.318182   0.238696   \n",
       "1  40.0                  0.013804           0.318182   0.278700   \n",
       "2  40.0                  0.059253           0.242424   0.336889   \n",
       "3  40.0                  0.008725           0.318182   0.278700   \n",
       "4  40.0                  0.078265           0.318182   0.334465   \n",
       "\n",
       "   serum_creatinine  serum_sodium      time  anaemia  DEATH_EVENT  \n",
       "0          0.056180      0.542857  0.854093        0            0  \n",
       "1          0.044944      0.685714  0.729537        1            0  \n",
       "2          0.044944      0.657143  0.512456        0            0  \n",
       "3          0.067416      0.657143  0.740214        0            0  \n",
       "4          0.056180      0.828571  0.747331        0            0  "
      ]
     },
     "execution_count": 27,
     "metadata": {},
     "output_type": "execute_result"
    }
   ],
   "source": [
    "df= pd.concat([X1,y1],axis=1)\n",
    "df.head()"
   ]
  },
  {
   "cell_type": "code",
   "execution_count": 28,
   "id": "72ab0746",
   "metadata": {},
   "outputs": [],
   "source": [
    "df.to_csv('balanced_data.csv', index=False)"
   ]
  },
  {
   "cell_type": "code",
   "execution_count": null,
   "id": "90fc9fd7",
   "metadata": {},
   "outputs": [],
   "source": []
  },
  {
   "cell_type": "code",
   "execution_count": null,
   "id": "ef932fc7",
   "metadata": {},
   "outputs": [],
   "source": []
  },
  {
   "cell_type": "code",
   "execution_count": null,
   "id": "40cc06eb",
   "metadata": {},
   "outputs": [],
   "source": []
  }
 ],
 "metadata": {
  "kernelspec": {
   "display_name": "Python 3",
   "language": "python",
   "name": "python3"
  },
  "language_info": {
   "codemirror_mode": {
    "name": "ipython",
    "version": 3
   },
   "file_extension": ".py",
   "mimetype": "text/x-python",
   "name": "python",
   "nbconvert_exporter": "python",
   "pygments_lexer": "ipython3",
   "version": "3.9.4"
  }
 },
 "nbformat": 4,
 "nbformat_minor": 5
}
