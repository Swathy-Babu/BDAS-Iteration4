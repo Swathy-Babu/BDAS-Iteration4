{
 "cells": [
  {
   "cell_type": "code",
   "execution_count": 1,
   "id": "4a9ea30e",
   "metadata": {},
   "outputs": [],
   "source": [
    "# Firsimport findspark\n",
    "findspark.init('/home/ubuntu/spark-2.1.1-bin-hadoop2.7')\n",
    "import pyspark\n",
    "from pyspark.sql import SparkSession\n",
    "spark = SparkSession.builder.appName('sbab033').getOrCreate()\n",
    "\n"
   ]
  },
  {
   "cell_type": "code",
   "execution_count": 2,
   "id": "a46a5951",
   "metadata": {},
   "outputs": [],
   "source": [
    "df= spark.read.csv('balanced_data.csv',header=True,inferSchema=True)"
   ]
  },
  {
   "cell_type": "code",
   "execution_count": 3,
   "id": "514b9600",
   "metadata": {},
   "outputs": [],
   "source": [
    "from pyspark.ml import Pipeline\n",
    "from pyspark.ml.evaluation import MulticlassClassificationEvaluator\n",
    "from pyspark.ml.classification import (RandomForestClassifier, GBTClassifier, DecisionTreeClassifier,LogisticRegression)"
   ]
  },
  {
   "cell_type": "code",
   "execution_count": 4,
   "id": "ece162fc",
   "metadata": {},
   "outputs": [],
   "source": [
    "# A few things we need to do before Spark can accept the data!\n",
    "# It needs to be in the form of two columns: \"label\" and \"features\".\n",
    "\n",
    "# Import VectorAssembler and Vectors\n",
    "from pyspark.ml.linalg import Vectors\n",
    "from pyspark.ml.feature import VectorAssembler"
   ]
  },
  {
   "cell_type": "code",
   "execution_count": 5,
   "id": "4915da48",
   "metadata": {},
   "outputs": [
    {
     "name": "stdout",
     "output_type": "stream",
     "text": [
      "root\n",
      " |-- age: double (nullable = true)\n",
      " |-- creatinine_phosphokinase: double (nullable = true)\n",
      " |-- ejection_fraction: double (nullable = true)\n",
      " |-- platelets: double (nullable = true)\n",
      " |-- serum_creatinine: double (nullable = true)\n",
      " |-- serum_sodium: double (nullable = true)\n",
      " |-- time: double (nullable = true)\n",
      " |-- anaemia: integer (nullable = true)\n",
      " |-- DEATH_EVENT: integer (nullable = true)\n",
      "\n"
     ]
    }
   ],
   "source": [
    "df.printSchema()"
   ]
  },
  {
   "cell_type": "code",
   "execution_count": 6,
   "id": "1dab9006",
   "metadata": {
    "scrolled": true
   },
   "outputs": [
    {
     "data": {
      "text/plain": [
       "['age',\n",
       " 'creatinine_phosphokinase',\n",
       " 'ejection_fraction',\n",
       " 'platelets',\n",
       " 'serum_creatinine',\n",
       " 'serum_sodium',\n",
       " 'time',\n",
       " 'anaemia',\n",
       " 'DEATH_EVENT']"
      ]
     },
     "execution_count": 6,
     "metadata": {},
     "output_type": "execute_result"
    }
   ],
   "source": [
    "df.columns"
   ]
  },
  {
   "cell_type": "code",
   "execution_count": null,
   "id": "0a9317ca",
   "metadata": {},
   "outputs": [],
   "source": []
  },
  {
   "cell_type": "code",
   "execution_count": 7,
   "id": "5eebf51e",
   "metadata": {},
   "outputs": [],
   "source": [
    "assembler = VectorAssembler(\n",
    "  inputCols=['age',\n",
    " 'creatinine_phosphokinase',\n",
    " 'ejection_fraction',\n",
    " 'platelets',\n",
    " 'serum_creatinine',\n",
    " 'serum_sodium',\n",
    " 'time',\n",
    " 'anaemia'],outputCol=\"features\")"
   ]
  },
  {
   "cell_type": "code",
   "execution_count": 8,
   "id": "8323e256",
   "metadata": {},
   "outputs": [],
   "source": [
    "df1 = assembler.transform(df)"
   ]
  },
  {
   "cell_type": "code",
   "execution_count": 9,
   "id": "2bcef142",
   "metadata": {},
   "outputs": [],
   "source": [
    "# Split the data into training and test sets (20% held out for testing).\n",
    "(train_data, test_data) = df1.randomSplit([0.8, 0.2],seed = 1)"
   ]
  },
  {
   "cell_type": "markdown",
   "id": "56c5dc68",
   "metadata": {},
   "source": [
    "# 6.2"
   ]
  },
  {
   "cell_type": "code",
   "execution_count": 10,
   "id": "f01b667a",
   "metadata": {},
   "outputs": [],
   "source": [
    "dtc = DecisionTreeClassifier(labelCol='DEATH_EVENT',featuresCol='features')\n",
    "rfc = RandomForestClassifier(labelCol='DEATH_EVENT',featuresCol='features')\n",
    "gbt = GBTClassifier(labelCol='DEATH_EVENT',featuresCol='features')\n",
    "lrc = LogisticRegression(labelCol='DEATH_EVENT',featuresCol='features')"
   ]
  },
  {
   "cell_type": "code",
   "execution_count": 11,
   "id": "5363abd8",
   "metadata": {},
   "outputs": [],
   "source": [
    "# Train the models (it's three models, so it might take some time).\n",
    "dtc_model = dtc.fit(train_data)\n",
    "rfc_model = rfc.fit(train_data)\n",
    "gbt_model = gbt.fit(train_data)\n",
    "lrc_model = lrc.fit(train_data)"
   ]
  },
  {
   "cell_type": "code",
   "execution_count": 12,
   "id": "7f4489eb",
   "metadata": {},
   "outputs": [],
   "source": [
    "dtc_predictions = dtc_model.transform(test_data)\n",
    "rfc_predictions = rfc_model.transform(test_data)\n",
    "gbt_predictions = gbt_model.transform(test_data)\n",
    "lrc_predictions = lrc_model.transform(test_data)"
   ]
  },
  {
   "cell_type": "code",
   "execution_count": 13,
   "id": "e94191c4",
   "metadata": {},
   "outputs": [],
   "source": [
    "# Let's start off with binary classification.\n",
    "from pyspark.ml.evaluation import BinaryClassificationEvaluator\n",
    "\n",
    "# Note that the label column isn't named label, it's named PrivateIndex in this case.\n",
    "my_binary_eval = BinaryClassificationEvaluator(labelCol = 'DEATH_EVENT')"
   ]
  },
  {
   "cell_type": "code",
   "execution_count": 14,
   "id": "aad02858",
   "metadata": {},
   "outputs": [
    {
     "name": "stdout",
     "output_type": "stream",
     "text": [
      "DTC\n",
      "0.8719594594594595\n",
      "RFC\n",
      "0.9527027027027027\n",
      "GBT\n",
      "0.8439189189189189\n",
      "LRC\n",
      "0.7658783783783785\n"
     ]
    }
   ],
   "source": [
    "# This is the area under the curve. This indicates that the data is highly seperable.\n",
    "print(\"DTC\")\n",
    "print(my_binary_eval.evaluate(dtc_predictions))\n",
    "\n",
    "# RFC improves accuracy but also model complexity. RFC outperforms DTC in nearly every situation.\n",
    "print(\"RFC\")\n",
    "print(my_binary_eval.evaluate(rfc_predictions))\n",
    "\n",
    "# We can't repeat these exact steps for GBT.\n",
    "my_binary_gbt_eval = BinaryClassificationEvaluator(labelCol='DEATH_EVENT', rawPredictionCol='prediction')\n",
    "print(\"GBT\")\n",
    "print(my_binary_gbt_eval.evaluate(gbt_predictions))\n",
    "\n",
    "print(\"LRC\")\n",
    "print(my_binary_gbt_eval.evaluate(lrc_predictions))\n"
   ]
  },
  {
   "cell_type": "code",
   "execution_count": 15,
   "id": "a95c1881",
   "metadata": {},
   "outputs": [],
   "source": [
    "# Select (prediction, true label) and compute test error. \n",
    "acc_evaluator = MulticlassClassificationEvaluator(labelCol=\"DEATH_EVENT\", predictionCol=\"prediction\", metricName=\"accuracy\")"
   ]
  },
  {
   "cell_type": "code",
   "execution_count": 16,
   "id": "c56f2eae",
   "metadata": {},
   "outputs": [],
   "source": [
    "dtc_acc = acc_evaluator.evaluate(dtc_predictions)\n",
    "rfc_acc = acc_evaluator.evaluate(rfc_predictions)\n",
    "gbt_acc = acc_evaluator.evaluate(gbt_predictions)\n",
    "lrc_acc = acc_evaluator.evaluate(lrc_predictions)"
   ]
  },
  {
   "cell_type": "code",
   "execution_count": 17,
   "id": "d1f9c1cd",
   "metadata": {
    "scrolled": true
   },
   "outputs": [
    {
     "name": "stdout",
     "output_type": "stream",
     "text": [
      "Here are the results!\n",
      "----------------------------------------\n",
      "A single decision tree has an accuracy of: 88.31%\n",
      "----------------------------------------\n",
      "A random forest ensemble has an accuracy of: 85.71%\n",
      "----------------------------------------\n",
      "An ensemble using GBT has an accuracy of: 84.42%\n",
      "----------------------------------------\n",
      "An ensemble using Logistic Reggression has an accuracy of: 84.42%\n"
     ]
    }
   ],
   "source": [
    "# Let's do something a bit more complex in terms of printing, just so it's formatted nicer. \n",
    "print(\"Here are the results!\")\n",
    "print('-'*40)\n",
    "print('A single decision tree has an accuracy of: {0:2.2f}%'.format(dtc_acc*100))\n",
    "print('-'*40)\n",
    "print('A random forest ensemble has an accuracy of: {0:2.2f}%'.format(rfc_acc*100))\n",
    "print('-'*40)\n",
    "print('An ensemble using GBT has an accuracy of: {0:2.2f}%'.format(gbt_acc*100))\n",
    "print('-'*40)\n",
    "print('An ensemble using Logistic Reggression has an accuracy of: {0:2.2f}%'.format(gbt_acc*100))"
   ]
  },
  {
   "cell_type": "markdown",
   "id": "53db26e6",
   "metadata": {},
   "source": [
    "# 6.3"
   ]
  },
  {
   "cell_type": "code",
   "execution_count": 18,
   "id": "d0259123",
   "metadata": {},
   "outputs": [
    {
     "name": "stdout",
     "output_type": "stream",
     "text": [
      "depth: 1\n",
      "Accuracy gini: 0.8051948051948052\n",
      "Accuracy etropy: 0.8051948051948052\n",
      "depth: 2\n",
      "Accuracy gini: 0.8571428571428571\n",
      "Accuracy etropy: 0.8571428571428571\n",
      "depth: 3\n",
      "Accuracy gini: 0.8441558441558441\n",
      "Accuracy etropy: 0.8701298701298701\n",
      "depth: 4\n",
      "Accuracy gini: 0.8571428571428571\n",
      "Accuracy etropy: 0.8441558441558441\n",
      "depth: 5\n",
      "Accuracy gini: 0.8441558441558441\n",
      "Accuracy etropy: 0.8571428571428571\n",
      "depth: 6\n",
      "Accuracy gini: 0.8181818181818182\n",
      "Accuracy etropy: 0.8311688311688312\n",
      "depth: 7\n",
      "Accuracy gini: 0.8311688311688312\n",
      "Accuracy etropy: 0.8441558441558441\n",
      "depth: 8\n",
      "Accuracy gini: 0.8311688311688312\n",
      "Accuracy etropy: 0.8181818181818182\n",
      "depth: 9\n",
      "Accuracy gini: 0.8311688311688312\n",
      "Accuracy etropy: 0.8051948051948052\n"
     ]
    },
    {
     "data": {
      "text/plain": [
       "<matplotlib.legend.Legend at 0x1729c88fcd0>"
      ]
     },
     "execution_count": 18,
     "metadata": {},
     "output_type": "execute_result"
    },
    {
     "data": {
      "image/png": "[encoded data removed]",
      "text/plain": [
       "<Figure size 432x288 with 1 Axes>"
      ]
     },
     "metadata": {
      "needs_background": "light"
     },
     "output_type": "display_data"
    }
   ],
   "source": [
    "import pandas as pd\n",
    "import matplotlib.pyplot as plt\n",
    "max_depth = []\n",
    "acc_gini = []\n",
    "acc_entropy = []\n",
    "for i in range(1,10):\n",
    " dt = DecisionTreeClassifier(labelCol='DEATH_EVENT',featuresCol='features', maxDepth=i,seed=1,maxBins=552,impurity='gini')\n",
    " model = dt.fit(train_data)\n",
    " pred = model.transform(test_data)\n",
    " print(\"depth:\",i )\n",
    " mev = MulticlassClassificationEvaluator(labelCol=\"DEATH_EVENT\", predictionCol=\"prediction\", metricName=\"accuracy\")\n",
    " #print(\"Accuracy:\", mev.evaluate(pred))\n",
    " Accuracy= mev.evaluate(pred)\n",
    " print(\"Accuracy gini:\",Accuracy)\n",
    " acc_gini.append(mev.evaluate(pred))\n",
    " ####\n",
    " dt = DecisionTreeClassifier(labelCol='DEATH_EVENT',featuresCol='features', maxDepth=i,seed = 1,maxBins=552,impurity='entropy')\n",
    " model = dt.fit(train_data)\n",
    " pred = model.transform(test_data)\n",
    " #print(\"depth:\",i )\n",
    " mev = MulticlassClassificationEvaluator(labelCol=\"DEATH_EVENT\", predictionCol=\"prediction\", metricName=\"accuracy\")\n",
    " #print(\"Accuracy:\", mev.evaluate(pred))\n",
    " Accuracy= mev.evaluate(pred)\n",
    " print(\"Accuracy etropy:\",Accuracy)\n",
    " acc_entropy.append(mev.evaluate(pred))\n",
    " ####\n",
    " max_depth.append(i)\n",
    " d = pd.DataFrame({'acc_gini':pd.Series(acc_gini), \n",
    " 'acc_entropy':pd.Series(acc_entropy),\n",
    " 'max_depth':pd.Series(max_depth)})\n",
    "# visualizing changes in parameters\n",
    "plt.plot('max_depth','acc_gini', data=d, label='gini')\n",
    "plt.plot('max_depth','acc_entropy', data=d, label='entropy')\n",
    "plt.xlabel('max_depth')\n",
    "plt.ylabel('accuracy')\n",
    "plt.legend()"
   ]
  },
  {
   "cell_type": "code",
   "execution_count": 19,
   "id": "91de08d7",
   "metadata": {},
   "outputs": [
    {
     "name": "stdout",
     "output_type": "stream",
     "text": [
      "number of trees: 1\n",
      "Accuracy gini: 0.8571428571428571\n",
      "Accuracy etropy: 0.8181818181818182\n",
      "number of trees: 2\n",
      "Accuracy gini: 0.8441558441558441\n",
      "Accuracy etropy: 0.8311688311688312\n",
      "number of trees: 3\n",
      "Accuracy gini: 0.8571428571428571\n",
      "Accuracy etropy: 0.8181818181818182\n",
      "number of trees: 4\n",
      "Accuracy gini: 0.8961038961038961\n",
      "Accuracy etropy: 0.8831168831168831\n",
      "number of trees: 5\n",
      "Accuracy gini: 0.8701298701298701\n",
      "Accuracy etropy: 0.8831168831168831\n",
      "number of trees: 6\n",
      "Accuracy gini: 0.8701298701298701\n",
      "Accuracy etropy: 0.8831168831168831\n",
      "number of trees: 7\n",
      "Accuracy gini: 0.8701298701298701\n",
      "Accuracy etropy: 0.922077922077922\n",
      "number of trees: 8\n",
      "Accuracy gini: 0.8701298701298701\n",
      "Accuracy etropy: 0.8961038961038961\n",
      "number of trees: 9\n",
      "Accuracy gini: 0.8571428571428571\n",
      "Accuracy etropy: 0.8441558441558441\n",
      "number of trees: 10\n",
      "Accuracy gini: 0.8701298701298701\n",
      "Accuracy etropy: 0.8831168831168831\n",
      "number of trees: 11\n",
      "Accuracy gini: 0.8701298701298701\n",
      "Accuracy etropy: 0.8961038961038961\n",
      "number of trees: 12\n",
      "Accuracy gini: 0.922077922077922\n",
      "Accuracy etropy: 0.8961038961038961\n",
      "number of trees: 13\n",
      "Accuracy gini: 0.8961038961038961\n",
      "Accuracy etropy: 0.8571428571428571\n",
      "number of trees: 14\n",
      "Accuracy gini: 0.8961038961038961\n",
      "Accuracy etropy: 0.8571428571428571\n",
      "number of trees: 15\n",
      "Accuracy gini: 0.8961038961038961\n",
      "Accuracy etropy: 0.8831168831168831\n",
      "number of trees: 16\n",
      "Accuracy gini: 0.8701298701298701\n",
      "Accuracy etropy: 0.8961038961038961\n",
      "number of trees: 17\n",
      "Accuracy gini: 0.8961038961038961\n",
      "Accuracy etropy: 0.9090909090909091\n",
      "number of trees: 18\n",
      "Accuracy gini: 0.8831168831168831\n",
      "Accuracy etropy: 0.9090909090909091\n",
      "number of trees: 19\n",
      "Accuracy gini: 0.8831168831168831\n",
      "Accuracy etropy: 0.8701298701298701\n"
     ]
    },
    {
     "data": {
      "text/plain": [
       "<matplotlib.legend.Legend at 0x1729c9ba3d0>"
      ]
     },
     "execution_count": 19,
     "metadata": {},
     "output_type": "execute_result"
    },
    {
     "data": {
      "image/png": "[encoded data removed]",
      "text/plain": [
       "<Figure size 432x288 with 1 Axes>"
      ]
     },
     "metadata": {
      "needs_background": "light"
     },
     "output_type": "display_data"
    }
   ],
   "source": [
    "numTrees=[]\n",
    "for i in range(1,20):\n",
    " #dt = DecisionTreeClassifier(labelCol='DEATH_EVENT',featuresCol='features', maxDepth=i,seed=1,maxBins=552,impurity='gini')\n",
    " dt= RandomForestClassifier(labelCol='DEATH_EVENT', featuresCol=\"features\", numTrees=i, \n",
    "                                maxDepth=7, maxBins=552,impurity='gini',seed=1)\n",
    " model = dt.fit(train_data)\n",
    " pred = model.transform(test_data)\n",
    " print(\"number of trees:\",i )\n",
    " mev = MulticlassClassificationEvaluator(labelCol=\"DEATH_EVENT\", predictionCol=\"prediction\", metricName=\"accuracy\")\n",
    " #print(\"Accuracy:\", mev.evaluate(pred))\n",
    " Accuracy= mev.evaluate(pred)\n",
    " print(\"Accuracy gini:\",Accuracy)\n",
    " acc_gini.append(mev.evaluate(pred))\n",
    " ####\n",
    " dt= RandomForestClassifier(labelCol='DEATH_EVENT', featuresCol=\"features\", numTrees=i, \n",
    "                                maxDepth=7, maxBins=552,impurity='entropy',seed=1)\n",
    " model = dt.fit(train_data)\n",
    " pred = model.transform(test_data)\n",
    " #print(\"depth:\",i )\n",
    " #mev = MulticlassClassificationEvaluator(labelCol=\"DEATH_EVENT\", predictionCol=\"prediction\", metricName=\"accuracy\")\n",
    " #print(\"Accuracy:\", mev.evaluate(pred))\n",
    " Accuracy= mev.evaluate(pred)\n",
    " print(\"Accuracy etropy:\",Accuracy)\n",
    " acc_entropy.append(mev.evaluate(pred))\n",
    " ####\n",
    " numTrees.append(i)\n",
    " d = pd.DataFrame({'acc_gini':pd.Series(acc_gini), \n",
    " 'acc_entropy':pd.Series(acc_entropy),\n",
    " 'numTrees':pd.Series(numTrees)})\n",
    "# visualizing changes in parameters\n",
    "plt.plot('numTrees','acc_gini', data=d, label='gini')\n",
    "plt.plot('numTrees','acc_entropy', data=d, label='entropy')\n",
    "plt.xlabel('numTrees')\n",
    "plt.ylabel('accuracy')\n",
    "plt.legend()"
   ]
  },
  {
   "cell_type": "code",
   "execution_count": 20,
   "id": "9af12170",
   "metadata": {},
   "outputs": [
    {
     "name": "stdout",
     "output_type": "stream",
     "text": [
      "number of iteration: 1\n",
      "Accuracy Variance: 0.8311688311688312\n",
      "number of iteration: 2\n",
      "Accuracy Variance: 0.8311688311688312\n",
      "number of iteration: 3\n",
      "Accuracy Variance: 0.8311688311688312\n",
      "number of iteration: 4\n",
      "Accuracy Variance: 0.8181818181818182\n",
      "number of iteration: 5\n",
      "Accuracy Variance: 0.8311688311688312\n",
      "number of iteration: 6\n",
      "Accuracy Variance: 0.8181818181818182\n",
      "number of iteration: 7\n",
      "Accuracy Variance: 0.8181818181818182\n",
      "number of iteration: 8\n",
      "Accuracy Variance: 0.8181818181818182\n",
      "number of iteration: 9\n",
      "Accuracy Variance: 0.8181818181818182\n",
      "number of iteration: 10\n",
      "Accuracy Variance: 0.8181818181818182\n",
      "number of iteration: 11\n",
      "Accuracy Variance: 0.8181818181818182\n",
      "number of iteration: 12\n",
      "Accuracy Variance: 0.8181818181818182\n",
      "number of iteration: 13\n",
      "Accuracy Variance: 0.8181818181818182\n",
      "number of iteration: 14\n",
      "Accuracy Variance: 0.8181818181818182\n",
      "number of iteration: 15\n",
      "Accuracy Variance: 0.8181818181818182\n",
      "number of iteration: 16\n",
      "Accuracy Variance: 0.8181818181818182\n",
      "number of iteration: 17\n",
      "Accuracy Variance: 0.8181818181818182\n",
      "number of iteration: 18\n",
      "Accuracy Variance: 0.8181818181818182\n",
      "number of iteration: 19\n",
      "Accuracy Variance: 0.8181818181818182\n"
     ]
    },
    {
     "data": {
      "text/plain": [
       "<matplotlib.legend.Legend at 0x1729a82b160>"
      ]
     },
     "execution_count": 20,
     "metadata": {},
     "output_type": "execute_result"
    },
    {
     "data": {
      "image/png": "[encoded data removed]",
      "text/plain": [
       "<Figure size 432x288 with 1 Axes>"
      ]
     },
     "metadata": {
      "needs_background": "light"
     },
     "output_type": "display_data"
    }
   ],
   "source": [
    "maxIter=[]\n",
    "acc_=[]\n",
    "for i in range(1,20):\n",
    " #dt = DecisionTreeClassifier(labelCol='DEATH_EVENT',featuresCol='features', maxDepth=i,seed=1,maxBins=552,impurity='gini')\n",
    " dt= GBTClassifier(labelCol='DEATH_EVENT', featuresCol=\"features\", maxIter=i, \n",
    "                                maxDepth=7, maxBins=552,seed=1)\n",
    " model = dt.fit(train_data)\n",
    " pred = model.transform(test_data)\n",
    " print(\"number of iteration:\",i )\n",
    " mev = MulticlassClassificationEvaluator(labelCol=\"DEATH_EVENT\", predictionCol=\"prediction\", metricName=\"accuracy\")\n",
    " #print(\"Accuracy:\", mev.evaluate(pred))\n",
    " Accuracy= mev.evaluate(pred)\n",
    " print(\"Accuracy Variance:\",Accuracy)\n",
    " acc_.append(mev.evaluate(pred))\n",
    " ####\n",
    " \n",
    " maxIter.append(i)\n",
    " #maxIter.append(i)\n",
    "d = pd.DataFrame({'acc_':pd.Series(acc_),\n",
    " 'maxIter':pd.Series(maxIter)})\n",
    "# visualizing changes in parameters\n",
    "#plt.plot('max_depth','acc_gini', data=d, label='gini')\n",
    "plt.plot('maxIter','acc_', data=d, label='variance')\n",
    "plt.xlabel('maxIter')\n",
    "plt.ylabel('accuracy')\n",
    "plt.legend()"
   ]
  },
  {
   "cell_type": "markdown",
   "id": "354e1196",
   "metadata": {},
   "source": [
    "# 7.1"
   ]
  },
  {
   "cell_type": "code",
   "execution_count": 21,
   "id": "f4924ef2",
   "metadata": {},
   "outputs": [],
   "source": [
    "(train_data, test_data) = df1.randomSplit([0.8, 0.2],seed = 1)"
   ]
  },
  {
   "cell_type": "code",
   "execution_count": 22,
   "id": "7352e28b",
   "metadata": {},
   "outputs": [
    {
     "name": "stdout",
     "output_type": "stream",
     "text": [
      "Accuract and AUC on split 80:20\n",
      "AUC: 0.8567567567567567\n",
      "Accuracy: 0.8441558441558441\n"
     ]
    }
   ],
   "source": [
    "dt = DecisionTreeClassifier(labelCol='DEATH_EVENT',featuresCol='features', maxDepth=3,maxBins=552,impurity='gini',seed = 1)\n",
    "#split 80:20\n",
    "print(\"Accuract and AUC on split 80:20\")\n",
    "dtmodel = dt.fit(train_data)\n",
    "dtpred = dtmodel.transform(test_data)\n",
    "print(\"AUC:\",my_binary_eval.evaluate(dtpred))\n",
    "print(\"Accuracy:\",mev.evaluate(dtpred))\n",
    "\n",
    "\n"
   ]
  },
  {
   "cell_type": "code",
   "execution_count": 23,
   "id": "8a8af99c",
   "metadata": {},
   "outputs": [
    {
     "name": "stdout",
     "output_type": "stream",
     "text": [
      "Accuract and AUC on split 70:30\n",
      "AUC: 0.8430724484399787\n",
      "Accuracy: 0.8292682926829268\n"
     ]
    }
   ],
   "source": [
    "#split 70:30\n",
    "print(\"Accuract and AUC on split 70:30\")\n",
    "(train_data, test_data) = df1.randomSplit([0.7, 0.3], seed = 1)\n",
    "dtmodel = dt.fit(train_data)\n",
    "dtpred = dtmodel.transform(test_data)\n",
    "print(\"AUC:\",my_binary_eval.evaluate(dtpred))\n",
    "print(\"Accuracy:\",mev.evaluate(dtpred))\n"
   ]
  },
  {
   "cell_type": "code",
   "execution_count": 24,
   "id": "7ca16001",
   "metadata": {},
   "outputs": [
    {
     "name": "stdout",
     "output_type": "stream",
     "text": [
      "Accuract and AUC on split 75:25\n",
      "AUC: 0.8420058139534883\n",
      "Accuracy: 0.8373493975903614\n"
     ]
    }
   ],
   "source": [
    "#slpit 60:40\n",
    "print(\"Accuract and AUC on split 75:25\")\n",
    "(train_data, test_data) = df1.randomSplit([0.6,0.4], seed = 1)\n",
    "dtmodel = dt.fit(train_data)\n",
    "dtpred = dtmodel.transform(test_data)\n",
    "print(\"AUC:\",my_binary_eval.evaluate(dtpred))\n",
    "print(\"Accuracy:\",mev.evaluate(dtpred))"
   ]
  },
  {
   "cell_type": "markdown",
   "id": "1b861e20",
   "metadata": {},
   "source": [
    "# 7.2(DM 1)"
   ]
  },
  {
   "cell_type": "code",
   "execution_count": 25,
   "id": "e24797bb-b2eb-44f7-be7a-06e749ca1731",
   "metadata": {},
   "outputs": [],
   "source": [
    "final = df1.select(\"features\", \"DEATH_EVENT\")\n",
    "(train_data, test_data) = final.randomSplit([0.8, 0.2], seed = 1)"
   ]
  },
  {
   "cell_type": "markdown",
   "id": "1dc48765",
   "metadata": {},
   "source": [
    "Decision Tree"
   ]
  },
  {
   "cell_type": "code",
   "execution_count": 26,
   "id": "69e27cfd",
   "metadata": {},
   "outputs": [
    {
     "name": "stdout",
     "output_type": "stream",
     "text": [
      "AUC: 0.8567567567567567\n",
      "Accuracy: 0.8441558441558441\n",
      "Test Error = 0.155844\n"
     ]
    }
   ],
   "source": [
    "dt = DecisionTreeClassifier(labelCol='DEATH_EVENT',featuresCol='features', maxDepth=3,maxBins=552,impurity='gini',seed=1)\n",
    "dtmodel = dt.fit(train_data)\n",
    "dtpred = dtmodel.transform(test_data)\n",
    "print(\"AUC:\",my_binary_eval.evaluate(dtpred))\n",
    "accuracy=mev.evaluate(dtpred)\n",
    "print(\"Accuracy:\",mev.evaluate(dtpred))\n",
    "print(\"Test Error = %g\" % (1.0 - accuracy))"
   ]
  },
  {
   "cell_type": "markdown",
   "id": "b5dcbc29",
   "metadata": {},
   "source": [
    "Random Forest"
   ]
  },
  {
   "cell_type": "code",
   "execution_count": 27,
   "id": "8aab9c42",
   "metadata": {
    "scrolled": true
   },
   "outputs": [
    {
     "name": "stdout",
     "output_type": "stream",
     "text": [
      "AUC: 0.9334459459459459\n",
      "Accuracy: 0.8961038961038961\n",
      "Test Error = 0.103896\n"
     ]
    }
   ],
   "source": [
    "rf= RandomForestClassifier(labelCol='DEATH_EVENT', featuresCol=\"features\", numTrees=4, \n",
    "                                maxDepth=7, maxBins=552,impurity='gini',seed=1)\n",
    "rfmodel = rf.fit(train_data)\n",
    "dtpred = rfmodel.transform(test_data)\n",
    "print(\"AUC:\",my_binary_eval.evaluate(dtpred))\n",
    "accuracy=mev.evaluate(dtpred)\n",
    "print(\"Accuracy:\",mev.evaluate(dtpred))\n",
    "print(\"Test Error = %g\" % (1.0 - accuracy))"
   ]
  },
  {
   "cell_type": "markdown",
   "id": "7977b7c2",
   "metadata": {},
   "source": [
    "GBTClassifier"
   ]
  },
  {
   "cell_type": "code",
   "execution_count": 28,
   "id": "6129732b",
   "metadata": {},
   "outputs": [
    {
     "name": "stdout",
     "output_type": "stream",
     "text": [
      "AUC: 0.914527027027027\n",
      "Accuracy: 0.8181818181818182\n",
      "Test Error = 0.181818\n"
     ]
    }
   ],
   "source": [
    "gbt= GBTClassifier(labelCol='DEATH_EVENT', featuresCol=\"features\", maxIter=11, \n",
    "                                maxDepth=7, maxBins=552,seed=1)\n",
    "gbtmodel = gbt.fit(train_data)\n",
    "dtpred = gbtmodel.transform(test_data)\n",
    "print(\"AUC:\",my_binary_eval.evaluate(dtpred))\n",
    "accuracy=mev.evaluate(dtpred)\n",
    "print(\"Accuracy:\",mev.evaluate(dtpred))\n",
    "print(\"Test Error = %g\" % (1.0 - accuracy))"
   ]
  },
  {
   "cell_type": "markdown",
   "id": "4c62bc32",
   "metadata": {},
   "source": [
    "# 7.3"
   ]
  },
  {
   "cell_type": "code",
   "execution_count": 29,
   "id": "d241f0ec",
   "metadata": {},
   "outputs": [
    {
     "name": "stdout",
     "output_type": "stream",
     "text": [
      "['age', 'creatinine_phosphokinase', 'ejection_fraction', 'platelets', 'serum_creatinine', 'serum_sodium', 'time', 'anaemia']\n"
     ]
    },
    {
     "data": {
      "image/png": "[encoded data removed]",
      "text/plain": [
       "<Figure size 1656x432 with 1 Axes>"
      ]
     },
     "metadata": {
      "needs_background": "light"
     },
     "output_type": "display_data"
    }
   ],
   "source": [
    "import matplotlib.pyplot as plt\n",
    "X = df.columns\n",
    "X.remove(\"DEATH_EVENT\") #label\n",
    "print(X)\n",
    "plt.figure(figsize=(23,6))\n",
    "#plt.bar(x, dt.featureImportances)\n",
    "plt.bar(X, dtmodel.featureImportances)\n",
    "plt.xticks(rotation=90)\n",
    "plt.title(\"Decision tree feature importance\")\n",
    "plt.show()\n"
   ]
  },
  {
   "cell_type": "code",
   "execution_count": 30,
   "id": "dc9236c2",
   "metadata": {
    "scrolled": true
   },
   "outputs": [
    {
     "data": {
      "image/png": "[encoded data removed]",
      "text/plain": [
       "<Figure size 1656x432 with 1 Axes>"
      ]
     },
     "metadata": {
      "needs_background": "light"
     },
     "output_type": "display_data"
    }
   ],
   "source": [
    "x = df.columns\n",
    "x.remove(\"DEATH_EVENT\") #label\n",
    "plt.figure(figsize=(23,6))\n",
    "plt.bar(x, gbtmodel.featureImportances)\n",
    "plt.xticks(rotation=90)\n",
    "plt.title(\"GBT Classifier feature importance\")\n",
    "plt.show()"
   ]
  },
  {
   "cell_type": "code",
   "execution_count": 31,
   "id": "59612b62",
   "metadata": {},
   "outputs": [
    {
     "data": {
      "image/png": "[encoded data removed]",
      "text/plain": [
       "<Figure size 1656x432 with 1 Axes>"
      ]
     },
     "metadata": {
      "needs_background": "light"
     },
     "output_type": "display_data"
    }
   ],
   "source": [
    "x = df.columns\n",
    "x.remove(\"DEATH_EVENT\") #label\n",
    "plt.figure(figsize=(23,6))\n",
    "plt.bar(x, rfmodel.featureImportances)\n",
    "plt.xticks(rotation=90)\n",
    "plt.title(\"Random forest feature importance\")\n",
    "plt.show()"
   ]
  },
  {
   "cell_type": "markdown",
   "id": "2a583bc7",
   "metadata": {},
   "source": [
    "# 7.2(DM-2)"
   ]
  },
  {
   "cell_type": "code",
   "execution_count": 32,
   "id": "4a41a325",
   "metadata": {},
   "outputs": [],
   "source": [
    "assembler = VectorAssembler(\n",
    "  inputCols=['ejection_fraction',\n",
    " 'serum_creatinine'],outputCol=\"features\")"
   ]
  },
  {
   "cell_type": "code",
   "execution_count": 33,
   "id": "28300946",
   "metadata": {},
   "outputs": [],
   "source": [
    "df2 = assembler.transform(df)"
   ]
  },
  {
   "cell_type": "code",
   "execution_count": 34,
   "id": "c0ac2c20",
   "metadata": {},
   "outputs": [],
   "source": [
    "(train_data, test_data) = df2.randomSplit([0.8, 0.2], seed = 1)"
   ]
  },
  {
   "cell_type": "markdown",
   "id": "889f6622",
   "metadata": {},
   "source": [
    "Decision Tree"
   ]
  },
  {
   "cell_type": "code",
   "execution_count": 35,
   "id": "907d7cc8",
   "metadata": {},
   "outputs": [
    {
     "name": "stdout",
     "output_type": "stream",
     "text": [
      "AUC: 0.7405405405405404\n",
      "Accuracy: 0.7272727272727273\n",
      "Test Error = 0.272727\n"
     ]
    }
   ],
   "source": [
    "dt = DecisionTreeClassifier(labelCol='DEATH_EVENT',featuresCol='features', maxDepth=3,maxBins=552,impurity='gini',seed=1)\n",
    "dtmodel = dt.fit(train_data)\n",
    "dtpred = dtmodel.transform(test_data)\n",
    "print(\"AUC:\",my_binary_eval.evaluate(dtpred))\n",
    "accuracy=mev.evaluate(dtpred)\n",
    "print(\"Accuracy:\",mev.evaluate(dtpred))\n",
    "print(\"Test Error = %g\" % (1.0 - accuracy))"
   ]
  },
  {
   "cell_type": "markdown",
   "id": "d3c60fa8",
   "metadata": {},
   "source": [
    "Random Forest"
   ]
  },
  {
   "cell_type": "code",
   "execution_count": 36,
   "id": "cdf71c06",
   "metadata": {},
   "outputs": [
    {
     "name": "stdout",
     "output_type": "stream",
     "text": [
      "AUC: 0.7722972972972972\n",
      "Accuracy: 0.7012987012987013\n",
      "Test Error = 0.298701\n"
     ]
    }
   ],
   "source": [
    "rf= RandomForestClassifier(labelCol='DEATH_EVENT', featuresCol=\"features\", numTrees=4, \n",
    "                                maxDepth=7, maxBins=552,impurity='gini',seed=1)\n",
    "dtmodel = rf.fit(train_data)\n",
    "dtpred = dtmodel.transform(test_data)\n",
    "print(\"AUC:\",my_binary_eval.evaluate(dtpred))\n",
    "accuracy=mev.evaluate(dtpred)\n",
    "print(\"Accuracy:\",mev.evaluate(dtpred))\n",
    "print(\"Test Error = %g\" % (1.0 - accuracy))"
   ]
  },
  {
   "cell_type": "markdown",
   "id": "6ca1fd41",
   "metadata": {},
   "source": [
    "GBT Classifier"
   ]
  },
  {
   "cell_type": "code",
   "execution_count": 37,
   "id": "8da97a6e",
   "metadata": {
    "scrolled": true
   },
   "outputs": [
    {
     "name": "stdout",
     "output_type": "stream",
     "text": [
      "AUC: 0.795608108108108\n",
      "Accuracy: 0.7272727272727273\n",
      "Test Error = 0.272727\n"
     ]
    }
   ],
   "source": [
    "gbt= GBTClassifier(labelCol='DEATH_EVENT', featuresCol=\"features\", maxIter=11, \n",
    "                                maxDepth=7, maxBins=552,seed=1)\n",
    "dtmodel = gbt.fit(train_data)\n",
    "dtpred = dtmodel.transform(test_data)\n",
    "print(\"AUC:\",my_binary_eval.evaluate(dtpred))\n",
    "accuracy=mev.evaluate(dtpred)\n",
    "print(\"Accuracy:\",mev.evaluate(dtpred))\n",
    "print(\"Test Error = %g\" % (1.0 - accuracy))"
   ]
  },
  {
   "cell_type": "markdown",
   "id": "bb7491f0",
   "metadata": {},
   "source": [
    "# 8.5"
   ]
  },
  {
   "cell_type": "markdown",
   "id": "6e4a102d",
   "metadata": {},
   "source": [
    "1teration 1 (Used all freatures and imbalanced data)"
   ]
  },
  {
   "cell_type": "code",
   "execution_count": 38,
   "id": "effa8a90",
   "metadata": {},
   "outputs": [],
   "source": [
    "df= spark.read.csv('cleaned_data.csv',header=True,inferSchema=True)"
   ]
  },
  {
   "cell_type": "code",
   "execution_count": 39,
   "id": "23d8b351",
   "metadata": {},
   "outputs": [
    {
     "data": {
      "text/plain": [
       "['age',\n",
       " 'creatinine_phosphokinase',\n",
       " 'ejection_fraction',\n",
       " 'platelets',\n",
       " 'serum_creatinine',\n",
       " 'serum_sodium',\n",
       " 'time',\n",
       " 'anaemia',\n",
       " 'diabetes',\n",
       " 'high_blood_pressure',\n",
       " 'sex',\n",
       " 'DEATH_EVENT',\n",
       " 'smoking']"
      ]
     },
     "execution_count": 39,
     "metadata": {},
     "output_type": "execute_result"
    }
   ],
   "source": [
    "df.columns"
   ]
  },
  {
   "cell_type": "code",
   "execution_count": 40,
   "id": "19cc2dfb",
   "metadata": {},
   "outputs": [],
   "source": [
    "assembler = VectorAssembler(\n",
    "  inputCols=['age',\n",
    " 'creatinine_phosphokinase',\n",
    " 'ejection_fraction',\n",
    " 'platelets',\n",
    " 'serum_creatinine',\n",
    " 'serum_sodium',\n",
    " 'time',\n",
    " 'anaemia',\n",
    " 'diabetes',\n",
    " 'high_blood_pressure',\n",
    " 'sex',\n",
    " 'smoking'],outputCol=\"features\")"
   ]
  },
  {
   "cell_type": "code",
   "execution_count": 41,
   "id": "49550530",
   "metadata": {},
   "outputs": [],
   "source": [
    "df2 = assembler.transform(df)"
   ]
  },
  {
   "cell_type": "code",
   "execution_count": 42,
   "id": "2eec5661",
   "metadata": {},
   "outputs": [],
   "source": [
    "(train_data, test_data) = df2.randomSplit([0.8, 0.2], seed = 1)"
   ]
  },
  {
   "cell_type": "code",
   "execution_count": 43,
   "id": "a47ec882",
   "metadata": {},
   "outputs": [
    {
     "name": "stdout",
     "output_type": "stream",
     "text": [
      "AUC: 0.7790697674418605\n",
      "Accuracy: 0.7758620689655172\n",
      "Test Error = 0.224138\n"
     ]
    }
   ],
   "source": [
    "rf= RandomForestClassifier(labelCol='DEATH_EVENT', featuresCol=\"features\", numTrees=4, \n",
    "                                maxDepth=7, maxBins=552,impurity='gini',seed=1)\n",
    "rfmodel = rf.fit(train_data)\n",
    "dtpred = rfmodel.transform(test_data)\n",
    "print(\"AUC:\",my_binary_eval.evaluate(dtpred))\n",
    "accuracy=mev.evaluate(dtpred)\n",
    "print(\"Accuracy:\",mev.evaluate(dtpred))\n",
    "print(\"Test Error = %g\" % (1.0 - accuracy))"
   ]
  },
  {
   "cell_type": "code",
   "execution_count": 44,
   "id": "91ef3d11",
   "metadata": {},
   "outputs": [
    {
     "name": "stdout",
     "output_type": "stream",
     "text": [
      "AUC: 0.7217054263565891\n",
      "Accuracy: 0.7068965517241379\n",
      "Test Error = 0.293103\n"
     ]
    }
   ],
   "source": [
    "gbt= GBTClassifier(labelCol='DEATH_EVENT', featuresCol=\"features\", maxIter=11, \n",
    "                                maxDepth=7, maxBins=552,seed=1)\n",
    "gbtmodel = gbt.fit(train_data)\n",
    "dtpred = gbtmodel.transform(test_data)\n",
    "print(\"AUC:\",my_binary_eval.evaluate(dtpred))\n",
    "accuracy=mev.evaluate(dtpred)\n",
    "print(\"Accuracy:\",mev.evaluate(dtpred))\n",
    "print(\"Test Error = %g\" % (1.0 - accuracy))"
   ]
  },
  {
   "cell_type": "markdown",
   "id": "e98ecb20",
   "metadata": {},
   "source": [
    "Iteration 2(only 2 clinical features and imbalanced data)"
   ]
  },
  {
   "cell_type": "code",
   "execution_count": 45,
   "id": "5556a450",
   "metadata": {},
   "outputs": [],
   "source": [
    "assembler = VectorAssembler(\n",
    "  inputCols=[\n",
    " 'ejection_fraction',\n",
    " 'serum_creatinine'],outputCol=\"features\")"
   ]
  },
  {
   "cell_type": "code",
   "execution_count": 46,
   "id": "a75e1be5",
   "metadata": {},
   "outputs": [],
   "source": [
    "df3 = assembler.transform(df)"
   ]
  },
  {
   "cell_type": "code",
   "execution_count": 47,
   "id": "1ebabecb",
   "metadata": {},
   "outputs": [],
   "source": [
    "(train_data, test_data) = df3.randomSplit([0.8, 0.2], seed = 1)"
   ]
  },
  {
   "cell_type": "code",
   "execution_count": 48,
   "id": "167f41f3",
   "metadata": {},
   "outputs": [
    {
     "name": "stdout",
     "output_type": "stream",
     "text": [
      "AUC: 0.6240310077519381\n",
      "Accuracy: 0.6206896551724138\n",
      "Test Error = 0.37931\n"
     ]
    }
   ],
   "source": [
    "rf= RandomForestClassifier(labelCol='DEATH_EVENT', featuresCol=\"features\", numTrees=4, \n",
    "                                maxDepth=7, maxBins=552,impurity='gini',seed=1)\n",
    "dtmodel = rf.fit(train_data)\n",
    "dtpred = dtmodel.transform(test_data)\n",
    "print(\"AUC:\",my_binary_eval.evaluate(dtpred))\n",
    "accuracy=mev.evaluate(dtpred)\n",
    "print(\"Accuracy:\",mev.evaluate(dtpred))\n",
    "print(\"Test Error = %g\" % (1.0 - accuracy))"
   ]
  },
  {
   "cell_type": "code",
   "execution_count": 49,
   "id": "42ac37c2",
   "metadata": {},
   "outputs": [
    {
     "name": "stdout",
     "output_type": "stream",
     "text": [
      "AUC: 0.6155038759689923\n",
      "Accuracy: 0.6379310344827587\n",
      "Test Error = 0.362069\n"
     ]
    }
   ],
   "source": [
    "gbt= GBTClassifier(labelCol='DEATH_EVENT', featuresCol=\"features\", maxIter=11, \n",
    "                                maxDepth=7, maxBins=552,seed=1)\n",
    "gbtmodel = gbt.fit(train_data)\n",
    "dtpred = gbtmodel.transform(test_data)\n",
    "print(\"AUC:\",my_binary_eval.evaluate(dtpred))\n",
    "accuracy=mev.evaluate(dtpred)\n",
    "print(\"Accuracy:\",mev.evaluate(dtpred))\n",
    "print(\"Test Error = %g\" % (1.0 - accuracy))"
   ]
  },
  {
   "cell_type": "code",
   "execution_count": null,
   "id": "221294c5",
   "metadata": {},
   "outputs": [],
   "source": []
  },
  {
   "cell_type": "code",
   "execution_count": null,
   "id": "0663c15b",
   "metadata": {},
   "outputs": [],
   "source": []
  },
  {
   "cell_type": "code",
   "execution_count": null,
   "id": "c5edd83b",
   "metadata": {},
   "outputs": [],
   "source": []
  },
  {
   "cell_type": "code",
   "execution_count": null,
   "id": "7f5d452f",
   "metadata": {},
   "outputs": [],
   "source": []
  }
 ],
 "metadata": {
  "kernelspec": {
   "display_name": "Python 3",
   "language": "python",
   "name": "python3"
  },
  "language_info": {
   "codemirror_mode": {
    "name": "ipython",
    "version": 3
   },
   "file_extension": ".py",
   "mimetype": "text/x-python",
   "name": "python",
   "nbconvert_exporter": "python",
   "pygments_lexer": "ipython3",
   "version": "3.9.4"
  }
 },
 "nbformat": 4,
 "nbformat_minor": 5
}
